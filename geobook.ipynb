{
 "cells": [
  {
   "cell_type": "markdown",
   "metadata": {},
   "source": [
    "# Geobook: an open Jupyter sandbox\n",
    "\n",
    "If you're viewing this Notebook via **mybinder.org** then this is an ephemeral, private, individual-to-you instance of the Notebook. Any edits you make or new cells you create will vanish when you close your browser. Use this space to explore a Jupyter Notebook environment with demo data & pre-loaded libraries ready for you to play with. A [Folium](https://python-visualization.github.io/folium/index.html) map object is defined in case you'd like to create a slippy map here with Python.\n",
    "\n",
    "Click the **+** button on the toolbar above to insert a new cell.\n",
    "\n",
    "Have fun!"
   ]
  },
  {
   "cell_type": "code",
   "execution_count": null,
   "metadata": {},
   "outputs": [],
   "source": [
    "# the following libraries are available in the mybinder.org instance:\n",
    "\n",
    "import rasterio\n",
    "import fiona\n",
    "import folium\n",
    "import matplotlib\n",
    "import pandas"
   ]
  },
  {
   "cell_type": "code",
   "execution_count": null,
   "metadata": {},
   "outputs": [],
   "source": [
    "# the following sample data are available in the mybinder.org instance:\n",
    "# datasets via https://data.austintexas.gov & https://www.planet.com\n",
    "\n",
    "tabular = \"data/austin_fire_stations.csv\"\n",
    "points = \"data/austin_off_leash_areas.geojson\"\n",
    "lines = \"data/austin_urban_trails.geojson\"\n",
    "polygons = \"data/austin_floodplain_model.geojson\"\n",
    "aoi = \"data/downtown_austin.geojson\""
   ]
  },
  {
   "cell_type": "code",
   "execution_count": null,
   "metadata": {},
   "outputs": [],
   "source": [
    "# run this cell to pull in a raster dataset (too big to keep in the git repo)\n",
    "# the geoTIFF is a 4-band PlanetScope image (of Austin, dated April 26 2019)\n",
    "# metadata and raster docs: https://developers.planet.com/docs/api/psscene4band/\n",
    "\n",
    "# YES you can curl directly into an ephemeral mybinder.org instance, it's magic!\n",
    "\n",
    "!curl -o \"data/austin_bgrn.tif\" -J https://hello.planet.com/data/s/PTIsNi51eFEyTD0/download"
   ]
  },
  {
   "cell_type": "code",
   "execution_count": null,
   "metadata": {},
   "outputs": [],
   "source": [
    "# this makes a Folium map object centered on Austin \n",
    "\n",
    "# run this cell to create magicmap\n",
    "magicmap = folium.Map(location=[30.265849, -97.751725], \n",
    "               tiles='cartodbpositron',\n",
    "               zoom_start=15\n",
    "              )"
   ]
  },
  {
   "cell_type": "code",
   "execution_count": null,
   "metadata": {},
   "outputs": [],
   "source": [
    "# run this cell after the above to display the Folium map\n",
    "magicmap"
   ]
  },
  {
   "cell_type": "code",
   "execution_count": null,
   "metadata": {},
   "outputs": [],
   "source": [
    "# your code here!"
   ]
  }
 ],
 "metadata": {
  "kernelspec": {
   "display_name": "geobook",
   "language": "python",
   "name": "geobook"
  },
  "language_info": {
   "codemirror_mode": {
    "name": "ipython",
    "version": 3
   },
   "file_extension": ".py",
   "mimetype": "text/x-python",
   "name": "python",
   "nbconvert_exporter": "python",
   "pygments_lexer": "ipython3",
   "version": "3.6.7"
  }
 },
 "nbformat": 4,
 "nbformat_minor": 2
}
